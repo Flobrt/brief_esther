{
 "cells": [
  {
   "cell_type": "code",
   "execution_count": 12,
   "metadata": {},
   "outputs": [],
   "source": [
    "import requests \n",
    "import pandas as pd \n",
    "import pprint"
   ]
  },
  {
   "cell_type": "code",
   "execution_count": 18,
   "metadata": {},
   "outputs": [
    {
     "name": "stdout",
     "output_type": "stream",
     "text": [
      "{'coord': {'lon': 4.5833, 'lat': 45.75},\n",
      " 'weather': [{'id': 803,\n",
      "              'main': 'Clouds',\n",
      "              'description': 'broken clouds',\n",
      "              'icon': '04d'}],\n",
      " 'base': 'stations',\n",
      " 'main': {'temp': 288.13,\n",
      "          'feels_like': 287.93,\n",
      "          'temp_min': 287.19,\n",
      "          'temp_max': 288.54,\n",
      "          'pressure': 1019,\n",
      "          'humidity': 86,\n",
      "          'sea_level': 1019,\n",
      "          'grnd_level': 958},\n",
      " 'visibility': 10000,\n",
      " 'wind': {'speed': 1.46, 'deg': 147, 'gust': 4.78},\n",
      " 'clouds': {'all': 73},\n",
      " 'dt': 1729843637,\n",
      " 'sys': {'type': 2,\n",
      "         'id': 2090774,\n",
      "         'country': 'FR',\n",
      "         'sunrise': 1729836723,\n",
      "         'sunset': 1729874345},\n",
      " 'timezone': 7200,\n",
      " 'id': 2996943,\n",
      " 'name': 'Arrondissement de Lyon',\n",
      " 'cod': 200}\n"
     ]
    }
   ],
   "source": [
    "city_name = 'lyon'\n",
    "api_key = '24fb1fbeb97ffecbdf8a28facb1898f0'\n",
    "\n",
    "data = requests.get(f'https://api.openweathermap.org/data/2.5/weather?q={city_name}&appid={api_key}')\n",
    "pprint.pp(data.json())"
   ]
  },
  {
   "cell_type": "code",
   "execution_count": 28,
   "metadata": {},
   "outputs": [],
   "source": [
    "data_json = data.json()"
   ]
  },
  {
   "cell_type": "code",
   "execution_count": null,
   "metadata": {},
   "outputs": [],
   "source": []
  }
 ],
 "metadata": {
  "kernelspec": {
   "display_name": "simplon",
   "language": "python",
   "name": "python3"
  },
  "language_info": {
   "codemirror_mode": {
    "name": "ipython",
    "version": 3
   },
   "file_extension": ".py",
   "mimetype": "text/x-python",
   "name": "python",
   "nbconvert_exporter": "python",
   "pygments_lexer": "ipython3",
   "version": "3.11.2"
  }
 },
 "nbformat": 4,
 "nbformat_minor": 2
}
